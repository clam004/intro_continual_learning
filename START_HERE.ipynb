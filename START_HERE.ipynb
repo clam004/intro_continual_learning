{
 "cells": [
  {
   "cell_type": "markdown",
   "metadata": {},
   "source": [
    "# Part 1 intuition behind elastic weight colsolidation\n",
    "\n",
    "In the figure below, $\\theta^{*}$ are the weights (ie parameters, synaptic strengths) learned by the neural network (NN) to solve old task A, shown as a vector in vector space. ie if this neural network as 100 total weights then this is a 2D representation of $\\mathbb{R}^{100}$ space. The blue horizontal arrow shows an example of catastrophic forgetting, whereby $\\theta^{*}$ moves out of the region that allows the NN to perform well at task A (grey), and into the center of a region that allows the NN to perform well at task B (cream). The downward green arrow is the update to $\\theta^{*}$ regularized by L2 penalty $\\alpha (\\theta_{i} - \\theta_{A , i}^{*})^{2}$ that causes it to move toward the cream region irrespective of the shape of the grey region. The desired update vector is the red arrow that moves the NN weights into a region capable of performing well at both tasks A and B. \n",
    "\n",
    "How Elastic Weight Cosolidation Changes Learning New Weights $\\theta^{*}$\n",
    "<p align=\"center\">\n",
    "<img src=\"https://raw.githubusercontent.com/clam004/intro_continual_learning/main/files/F1.large.jpg\" height=500 width=500 >\n",
    "</p>\n",
    "\n",
    "EWC encourages movement of weights along the red path by modifying the loss function when re-training a NN that has already been trained to convergence using the loss function for task A, $L_{A}$, which has settled on weights $\\theta_{A}$. When re-training the NN on task B using $L_{B}$, we add a term which penalizes changes to weights that are both far from $\\theta_{A}$, ie $(\\theta_{i} - \\theta_{A , i}^{*})^{2}$, and also high in $F_{i}$ which encodes the shape of the grey region.\n",
    "\n",
    "$$L \\left(\\right. \\theta \\left.\\right) = L_{B} \\left(\\right. \\theta \\left.\\right) + \\underset{i}{\\sum} \\frac{\\lambda}{2} F_{i} \\left(\\theta_{i} - \\theta_{A , i}^{*}\\right)^{2} $$\n",
    "\n",
    "### But what is F_i? \n",
    "\n",
    "F_i is the diagonal of the Fisher information matrix. We want to use the diagonal components in Fisher Information Matrix to identify which parameters are more important to task A and apply higher weights to them (the direction of the short axis of grey oval). To learn B we should instead change those weights where F_i is small (long axis of grey oval).  \n",
    "\n",
    "In the EWC paper:\n",
    "\n",
    "\"we approximate the posterior as a Gaussian distribution with mean given by the parameters θ∗A and a diagonal precision given by the diagonal of the Fisher information matrix F. F has three key properties (20): (i) It is equivalent to the second derivative of the loss near a minimum, (ii) it can be computed from first-order derivatives alone and is thus easy to calculate even for large models, and (iii) it is guaranteed to be positive semidefinite. Note that this approach is similar to expectation propagation where each subtask is seen as a factor of the posterior (21). where LB(θ) is the loss for task B only, λ sets how important the old task is compared with the new one, and i labels each parameter.\n",
    "\n",
    "When moving to a third task, task C, EWC will try to keep the network parameters close to the learned parameters of both tasks A and B. This can be enforced either with two separate penalties or as one by noting that the sum of two quadratic penalties is itself a quadratic penalty.\"\n",
    "\n",
    "### Lets learn what F is in the example\n",
    "\n",
    "This article gives a very good explaination of F in the context of EWC: [Fisher Information Matrix by Yuan-Hong Liao](https://andrewliao11.github.io/blog/fisher-info-matrix/)\n",
    "\n",
    "To compute F_i, we sample the data from task A once and calculate the empirical Fisher Information Matrix. \n",
    "\n",
    "$$\n",
    "I_{\\theta_\\mathcal{A}^*} = \\frac{1}{N}  \\sum_{i=1}^{N} \\nabla_\\theta log \\ p(x_{\\mathcal{A}, i}|\\theta_\\mathcal{A}^*) \\nabla_\\theta log \\ p(x_{\\mathcal{A}, i}|\\theta_\\mathcal{A}^*)^T\n",
    "$$\n",
    "\n",
    "This is just to say that the above equation is how you calculate the below equation from the data. For each pair of parameters in $\\theta$ ($\\theta_i$ and $\\theta_j$), the Fisher Information matrix at position ij is\n",
    "\n",
    "$$\n",
    "I(\\theta)_{ij} = E\\left[ \\left( \\frac{\\partial}{\\partial\\theta_i}\\log f(X;\\theta) \\right)\\left( \\frac{\\partial}{\\partial\\theta_j}\\log f(X;\\theta) \\right) \\mid \\theta\\right]\n",
    "$$\n",
    "\n",
    "If this equation is hard to understand, then the code should make it clearer, dont worry, we will match parts of the code to the equation above so it becomes more tangible.\n",
    "\n",
    "# Part 2 A look at the data and the task\n",
    "\n",
    "### MNIST\n",
    "\n",
    "The MNIST data set contains 70,000 images of handwritten digits and their corresponding labels. The images are 28x28 with pixel values from 0 to 255. The labels are the digits from 0 to 9. By default 60,000 of these images belong to a training set and 10,000 of these images belong to a test set.\n",
    "\n",
    "### Fashion-MNIST\n",
    "\n",
    "Fashion-MNIST is a dataset of Zalando's article images—consisting of a training set of 60,000 examples and a test set of 10,000 examples. Each example is a 28x28 grayscale image, associated with a label from 10 classes. Zalando intends Fashion-MNIST to serve as a direct drop-in replacement for the original MNIST dataset for benchmarking machine learning algorithms. It shares the same image size and structure of training and testing splits.\n",
    "\n",
    "Each training and test example is assigned to one of the following labels:\n",
    "\n",
    "- 0 T-shirt/top\n",
    "- 1 Trouser\n",
    "- 2 Pullover\n",
    "- 3 Dress\n",
    "- 4 Coat\n",
    "- 5 Sandal\n",
    "- 6 Shirt\n",
    "- 7 Sneaker\n",
    "- 8 Bag\n",
    "- 9 Ankle boot\n",
    "\n",
    "## Task\n",
    "\n",
    "as you might guess, our goal is to train an NN that retains it's ability to perform well on MNIST after being retrained on only Fashion-MNIST"
   ]
  },
  {
   "cell_type": "code",
   "execution_count": 1,
   "metadata": {},
   "outputs": [],
   "source": [
    "import numpy as np\n",
    "from PIL import Image\n",
    "from matplotlib import pyplot as plt\n",
    "from matplotlib.pyplot import imshow\n",
    "\n",
    "from contlearn.getdata import getMNIST, getFashionMNIST\n",
    "\n",
    "%load_ext autoreload\n",
    "%autoreload 2\n",
    "%matplotlib inline"
   ]
  },
  {
   "cell_type": "code",
   "execution_count": 2,
   "metadata": {},
   "outputs": [],
   "source": [
    "# task A training and test set\n",
    "train_loader_mnist, test_loader_mnist = getMNIST(batch_size=32)\n",
    "\n",
    "# task B training and test set\n",
    "train_loader_fashion, test_loader_fashion = getFashionMNIST(batch_size=32)"
   ]
  },
  {
   "cell_type": "code",
   "execution_count": 3,
   "metadata": {},
   "outputs": [
    {
     "name": "stdout",
     "output_type": "stream",
     "text": [
      "tensor(1)\n",
      "torch.Size([28, 28])\n"
     ]
    },
    {
     "data": {
      "text/plain": [
       "<matplotlib.image.AxesImage at 0x7ff2731f6340>"
      ]
     },
     "execution_count": 3,
     "metadata": {},
     "output_type": "execute_result"
    },
    {
     "data": {
      "image/png": "[encoded data removed]",
      "text/plain": [
       "<Figure size 432x288 with 1 Axes>"
      ]
     },
     "metadata": {
      "needs_background": "light"
     },
     "output_type": "display_data"
    }
   ],
   "source": [
    "input_image, target_label = next(iter(train_loader_mnist))\n",
    "\n",
    "print(target_label[0])\n",
    "print(input_image[0][0].shape)\n",
    "\n",
    "img = Image.fromarray(input_image[0][0].detach().cpu().numpy()*255)\n",
    "\n",
    "plt.imshow(img)"
   ]
  },
  {
   "cell_type": "code",
   "execution_count": 4,
   "metadata": {},
   "outputs": [
    {
     "name": "stdout",
     "output_type": "stream",
     "text": [
      "Coat\n",
      "torch.Size([28, 28])\n"
     ]
    },
    {
     "data": {
      "text/plain": [
       "<matplotlib.image.AxesImage at 0x7ff2730f3580>"
      ]
     },
     "execution_count": 4,
     "metadata": {},
     "output_type": "execute_result"
    },
    {
     "data": {
      "image/png": "[encoded data removed]",
      "text/plain": [
       "<Figure size 432x288 with 1 Axes>"
      ]
     },
     "metadata": {
      "needs_background": "light"
     },
     "output_type": "display_data"
    }
   ],
   "source": [
    "input_image, target_label = next(iter(train_loader_fashion))\n",
    "\n",
    "fashion_key = {\n",
    "    0: \"T-shirt/top\",\n",
    "    1: \"Trouser\",\n",
    "    2: \"Pullover\",\n",
    "    3: \"Dress\",\n",
    "    4: \"Coat\",\n",
    "    5: \"Sandal\",\n",
    "    6: \"Shirt\",\n",
    "    7: \"Sneaker\",\n",
    "    8: \"Bag\",\n",
    "    9: \"Ankle boot\",\n",
    "}\n",
    "\n",
    "print(fashion_key[int(target_label[0].detach().cpu().numpy())])\n",
    "print(input_image[0][0].shape)\n",
    "\n",
    "img = Image.fromarray(input_image[0][0].detach().cpu().numpy()*255)\n",
    "\n",
    "plt.imshow(img)"
   ]
  },
  {
   "cell_type": "markdown",
   "metadata": {},
   "source": [
    "# Part 3 Baseline results\n",
    "\n",
    "first we train on MNIST and the we will observe the drop in performance once we retrain on Fashion-MNIST, WITHOUT Elastic Weight Consolidation"
   ]
  },
  {
   "cell_type": "code",
   "execution_count": 3,
   "metadata": {},
   "outputs": [
    {
     "name": "stdout",
     "output_type": "stream",
     "text": [
      "The autoreload extension is already loaded. To reload it, use:\n",
      "  %reload_ext autoreload\n",
      "you are using PyTorch version  1.10.0+cu102\n",
      "you have 2 GPUs\n",
      "cuda:0\n"
     ]
    }
   ],
   "source": [
    "import math\n",
    "import random\n",
    "\n",
    "import numpy as np\n",
    "import torch\n",
    "from matplotlib import pyplot as plt\n",
    "from matplotlib.pyplot import imshow\n",
    "from tqdm.notebook import tqdm\n",
    "\n",
    "from contlearn.getmodels import MLP\n",
    "from contlearn.gettrainer import one_epoch_baseline, test, var2device\n",
    "\n",
    "%load_ext autoreload\n",
    "%autoreload 2\n",
    "%matplotlib inline\n",
    "\n",
    "print('you are using PyTorch version ',torch.__version__)\n",
    "\n",
    "if torch.cuda.is_available():\n",
    "    use_cuda = True\n",
    "    print(\"you have\", torch.cuda.device_count(), \"GPUs\")\n",
    "    device = torch.device(\"cuda:0\")\n",
    "    print(device)\n",
    "else:\n",
    "    use_cuda = False\n",
    "    print('no GPUs detected')\n",
    "    device = torch.device(\"cpu\")"
   ]
  },
  {
   "cell_type": "code",
   "execution_count": 6,
   "metadata": {},
   "outputs": [
    {
     "name": "stdout",
     "output_type": "stream",
     "text": [
      "torch.Size([32, 28, 28])\n",
      "torch.Size([32, 10])\n"
     ]
    }
   ],
   "source": [
    "# initialize a new model\n",
    "\n",
    "model = MLP(hidden_size=256)\n",
    "\n",
    "if torch.cuda.is_available() and use_cuda:\n",
    "    model.cuda()\n",
    "    \n",
    "# push an image through it\n",
    "\n",
    "input_image, target_label = next(iter(train_loader_fashion))\n",
    "\n",
    "input_image = var2device(input_image).squeeze(1)\n",
    "\n",
    "print(input_image.shape)\n",
    "\n",
    "output = model(input_image)\n",
    "\n",
    "print(output.shape)"
   ]
  },
  {
   "cell_type": "code",
   "execution_count": 7,
   "metadata": {},
   "outputs": [],
   "source": [
    "def baseline_training(\n",
    "    model, \n",
    "    epochs, \n",
    "    train_loader,\n",
    "    test_loader,\n",
    "    test2_loader = None,\n",
    "    use_cuda=True, \n",
    "):\n",
    "    \n",
    "    \"\"\"\n",
    "    This function saves the training curve data consisting\n",
    "    training set loss and validation set accuracy over the\n",
    "    course of the epochs of training.\n",
    "    \n",
    "    I set this up such that if you provide 2 test sets,you\n",
    "    can watch the test accuracy change together during training\n",
    "    on train_loder\n",
    "    \"\"\"\n",
    "    \n",
    "    if torch.cuda.is_available() and use_cuda:\n",
    "        model.cuda()\n",
    "        \n",
    "    train_loss, val_acc, val2_acc = [], [], []\n",
    "    \n",
    "    for epoch in tqdm(range(epochs)):\n",
    "\n",
    "        epoch_loss = one_epoch_baseline(model,train_loader)\n",
    "        train_loss.append(epoch_loss)\n",
    "        \n",
    "        acc = test(model,test_loader)\n",
    "        val_acc.append(acc.detach().cpu().numpy())\n",
    "        \n",
    "        if test2_loader is not None:\n",
    "            acc2 = test(model,test2_loader)\n",
    "            val2_acc.append(acc2.detach().cpu().numpy())\n",
    "            \n",
    "    return train_loss, val_acc, val2_acc, model "
   ]
  },
  {
   "cell_type": "code",
   "execution_count": 10,
   "metadata": {},
   "outputs": [
    {
     "data": {
      "application/vnd.jupyter.widget-view+json": {
       "model_id": "0620996aa0b143caa339803ee51b4aec",
       "version_major": 2,
       "version_minor": 0
      },
      "text/plain": [
       "  0%|          | 0/25 [00:00<?, ?it/s]"
      ]
     },
     "metadata": {},
     "output_type": "display_data"
    }
   ],
   "source": [
    "# set seeds for reproducibility and train the model using the training loop called\n",
    "# baseline_training\n",
    "\n",
    "torch.manual_seed(0)\n",
    "np.random.seed(0)\n",
    "random.seed(0)\n",
    "\n",
    "train_loss, val_acc, val2_acc,  model = baseline_training(\n",
    "    model,\n",
    "    epochs = 25,\n",
    "    train_loader = train_loader_mnist,\n",
    "    test_loader = test_loader_mnist,\n",
    ")\n",
    "\n",
    "# save the trained model\n",
    "model = model.cpu()\n",
    "torch.save(model, \"files/basemodel.pth\")"
   ]
  },
  {
   "cell_type": "code",
   "execution_count": 11,
   "metadata": {},
   "outputs": [
    {
     "data": {
      "image/png": "[encoded data removed]",
      "text/plain": [
       "<Figure size 432x288 with 1 Axes>"
      ]
     },
     "metadata": {
      "needs_background": "light"
     },
     "output_type": "display_data"
    }
   ],
   "source": [
    "plt.figure()\n",
    "plt.xlabel('epochs', fontsize=25)\n",
    "plt.ylabel('validation accuracy', fontsize=25)\n",
    "plt.plot(val_acc, label='mnist')\n",
    "plt.legend()\n",
    "plt.show()"
   ]
  },
  {
   "cell_type": "markdown",
   "metadata": {},
   "source": [
    "### learning curve\n",
    "you should get something like this where the accuracy starts to plateau at around 75% for this simple feed forward model\n",
    "\n",
    "<img src=\"https://raw.githubusercontent.com/clam004/intro_continual_learning/main/files/baseline_mnist.png\">"
   ]
  },
  {
   "cell_type": "code",
   "execution_count": 26,
   "metadata": {},
   "outputs": [
    {
     "name": "stdout",
     "output_type": "stream",
     "text": [
      "mnist accuracy tensor(0.8238)\n",
      "fashion accuracy tensor(0.0704)\n"
     ]
    }
   ],
   "source": [
    "# you can use this to load the model instead of training it from scratch like above \n",
    "\n",
    "model = torch.load(\"files/basemodel.pth\")\n",
    "\n",
    "if torch.cuda.is_available() and use_cuda:\n",
    "    model.cuda()\n",
    "    \n",
    "# tensor(0.8238, device='cuda:0') means that the test set accuracy was 82.4%\n",
    "# compared to a baseline accuracy of 10% if the model is choosing randomly\n",
    "print('mnist accuracy', test(model,test_loader_mnist))\n",
    "print('fashion accuracy', test(model,test_loader_fashion))"
   ]
  },
  {
   "cell_type": "markdown",
   "metadata": {},
   "source": [
    "### Catastrophic Forgetting\n",
    "\n",
    "This is one of the main problems we are trying to solve in the continual learning, aka lifelong learning, aka sequential learning, research field. As you can see, learning Fashion MNIST also degrades performance on original MNIST. In part this is because some of the useful parameters, aka weights, used for original MNIST, are overwritten or updated past what is useful for original MNIST in order to become useful for Fashion MNIST\n",
    "\n",
    "We expect something like this in which the fashion accuracy increases from it's random performance at around 10% to almost 40% and the mnist test accuracy drops to below 30% from a previous performance of around 80%\n",
    "<img src=\"https://raw.githubusercontent.com/clam004/intro_continual_learning/main/files/catastrophic_forgetting.png\">\n",
    "\n"
   ]
  },
  {
   "cell_type": "code",
   "execution_count": 16,
   "metadata": {},
   "outputs": [
    {
     "data": {
      "application/vnd.jupyter.widget-view+json": {
       "model_id": "04ee7766e75c4b2ba21f154dac08758b",
       "version_major": 2,
       "version_minor": 0
      },
      "text/plain": [
       "  0%|          | 0/25 [00:00<?, ?it/s]"
      ]
     },
     "metadata": {},
     "output_type": "display_data"
    }
   ],
   "source": [
    "torch.manual_seed(0)\n",
    "np.random.seed(0)\n",
    "random.seed(0)\n",
    "\n",
    "train_loss, val_acc, val2_acc,  model = baseline_training(\n",
    "    model,\n",
    "    epochs = 25,\n",
    "    train_loader = train_loader_fashion,\n",
    "    test_loader = test_loader_fashion,\n",
    "    test2_loader = test_loader_mnist,\n",
    ")"
   ]
  },
  {
   "cell_type": "code",
   "execution_count": 17,
   "metadata": {},
   "outputs": [
    {
     "data": {
      "image/png": "[encoded data removed]",
      "text/plain": [
       "<Figure size 432x288 with 1 Axes>"
      ]
     },
     "metadata": {
      "needs_background": "light"
     },
     "output_type": "display_data"
    }
   ],
   "source": [
    "plt.figure()\n",
    "plt.xlabel('epochs', fontsize=25)\n",
    "plt.ylabel('validation accuracy', fontsize=25)\n",
    "plt.plot(val_acc, label='fashion')\n",
    "plt.plot(val2_acc, label='mnist')\n",
    "plt.legend()\n",
    "plt.show()"
   ]
  },
  {
   "cell_type": "markdown",
   "metadata": {},
   "source": [
    "# Part 4 Elastic Weight Consolidation\n",
    "\n",
    "now that we have implemented the control group, lets implement the experimental group\n",
    "\n",
    "instead of revisiting every old MNIST example to build our Fisher Information Matrix, we will visit num_samples of them to form a approximate of the matrix\n",
    "\n",
    "please read the comments in the EWC class, which explains each step of the math needed\n",
    "to calculate the EWC loss function, dont worry if it doesnt make sense, we will then go through it step by step\n",
    "\n",
    "After gathering your examples of task A in the cell below, mnist, run the below cells from the second cell all the way to \n",
    "\n",
    "#### sum the squares of the gradients\n",
    "\n",
    "comparing the norm of the precision _matrices when you use a pretrained model and using a randomly initialized model "
   ]
  },
  {
   "cell_type": "code",
   "execution_count": 4,
   "metadata": {},
   "outputs": [
    {
     "name": "stdout",
     "output_type": "stream",
     "text": [
      "num_samples 512\n"
     ]
    }
   ],
   "source": [
    "# instead of revisiting every old MNIST example to build our Fisher Information Matrix\n",
    "# use num_samples of them to calculate a approximate of the matrix\n",
    "\n",
    "torch.manual_seed(0)\n",
    "np.random.seed(0)\n",
    "random.seed(0)\n",
    "\n",
    "num_batches = 16\n",
    "\n",
    "old_tasks = []\n",
    "\n",
    "for sample in range(num_batches):\n",
    "    input_batch, target_batch = next(iter(train_loader_mnist))\n",
    "    for image in input_batch:\n",
    "        old_tasks.append(image)\n",
    "    \n",
    "print(\"num_samples\", len(old_tasks))"
   ]
  },
  {
   "cell_type": "code",
   "execution_count": 5,
   "metadata": {},
   "outputs": [
    {
     "name": "stdout",
     "output_type": "stream",
     "text": [
      "The autoreload extension is already loaded. To reload it, use:\n",
      "  %reload_ext autoreload\n",
      "accuracy on mnist test set 0.8237999677658081\n"
     ]
    }
   ],
   "source": [
    "from copy import deepcopy\n",
    "\n",
    "import torch\n",
    "from torch import nn\n",
    "from torch.nn import functional as F\n",
    "from torch.autograd import Variable\n",
    "from torch import optim\n",
    "import torch.utils.data\n",
    "\n",
    "from contlearn.getmodels import MLP\n",
    "from contlearn.gettrainer import var2device\n",
    "\n",
    "%load_ext autoreload\n",
    "%autoreload 2\n",
    "%matplotlib inline\n",
    "\n",
    "\n",
    "# Uncomment one of the two below lines of code that instantiates a model\n",
    "### birth a new randomly initiated model ###\n",
    "\n",
    "# model = MLP(hidden_size=256)\n",
    "\n",
    "### load a model previously trained on one task, task A ###\n",
    "\n",
    "model = torch.load(\"files/basemodel.pth\")\n",
    "\n",
    "#####\n",
    "\n",
    "\n",
    "if torch.cuda.is_available() and use_cuda:\n",
    "    model.cuda()    \n",
    "# tensor(0.8238, device='cuda:0') means that the test set accuracy was 82.4%\n",
    "# compared to a baseline accuracy of 10% if the model is choosing randomly\n",
    "acc = test(model,test_loader_mnist)\n",
    "print(\"accuracy on mnist test set\", acc.item())"
   ]
  },
  {
   "cell_type": "code",
   "execution_count": 6,
   "metadata": {},
   "outputs": [],
   "source": [
    "class EWC(object):\n",
    "    \n",
    "    \"\"\"\n",
    "    Class to calculate the Fisher Information Matrix\n",
    "    used in the Elastic Weight Consolidation portion\n",
    "    of the loss function\n",
    "    \"\"\"\n",
    "    \n",
    "    def __init__(self, model: nn.Module, dataset: list):\n",
    "\n",
    "        self.model = model #pretrained model\n",
    "        self.dataset = dataset #samples from the old task or tasks\n",
    "        \n",
    "        # n is the string name of the parameter matrix p, aka theta, aka weights\n",
    "        # in self.params we reference all of those weights that are open to\n",
    "        # being updated by the gradient\n",
    "        self.params = {n: p for n, p in self.model.named_parameters() if p.requires_grad}\n",
    "        \n",
    "        # make a copy of the old weights, ie theta_A,star, ie 𝜃∗A, in the loss equation\n",
    "        # we need this to calculate (𝜃 - 𝜃∗A)^2 because self.params will be changing \n",
    "        # upon every backward pass and parameter update by the optimizer\n",
    "        self._means = {}\n",
    "        for n, p in deepcopy(self.params).items():\n",
    "            self._means[n] = var2device(p.data)\n",
    "        \n",
    "        # calculate the fisher information matrix \n",
    "        self._precision_matrices = self._diag_fisher()\n",
    "\n",
    "    def _diag_fisher(self):\n",
    "        \n",
    "        # save a copy of the zero'd out version of\n",
    "        # each layer's parameters of the same shape\n",
    "        # to precision_matrices[n]\n",
    "        precision_matrices = {}\n",
    "        for n, p in deepcopy(self.params).items():\n",
    "            p.data.zero_()\n",
    "            precision_matrices[n] = var2device(p.data)\n",
    "\n",
    "        # we need the model to calculate the gradient but\n",
    "        # we have no intention in this step to actually update the model\n",
    "        # that will have to wait for the combining of this EWC loss term\n",
    "        # with the new task's loss term\n",
    "        self.model.eval()\n",
    "        for input in self.dataset:\n",
    "            self.model.zero_grad()\n",
    "            # remove channel dim, these are greyscale, not color rgb images\n",
    "            # bs,1,h,w -> bs,h,w\n",
    "            input = input.squeeze(1)\n",
    "            input = var2device(input)\n",
    "            output = self.model(input).view(1, -1)\n",
    "            label = output.max(1)[1].view(-1)\n",
    "            # calculate loss and backprop\n",
    "            loss = F.nll_loss(F.log_softmax(output, dim=1), label)\n",
    "            loss.backward()\n",
    "\n",
    "            for n, p in self.model.named_parameters():\n",
    "                precision_matrices[n].data += p.grad.data ** 2 / len(self.dataset)\n",
    "\n",
    "        precision_matrices = {n: p for n, p in precision_matrices.items()}\n",
    "        return precision_matrices\n",
    "\n",
    "    def penalty(self, model: nn.Module):\n",
    "        loss = 0\n",
    "        for n, p in model.named_parameters():\n",
    "            _loss = self._precision_matrices[n] * (p - self._means[n]) ** 2\n",
    "            loss += _loss.sum()\n",
    "        return loss\n",
    "    \n",
    "# place the model pretrained on mnist, but not fashion-mnist, along with some mnist examples\n",
    "# into the Elastic Weight Consolidation object to perform EWC related tasks like calculating the\n",
    "# Fisher Matrix\n",
    "ewc = EWC(model, old_tasks)"
   ]
  },
  {
   "cell_type": "markdown",
   "metadata": {},
   "source": [
    "### Empirical Estimate of the Fisher Information Matrix\n",
    "\n",
    "Lets work through the _diag_fisher() method that calculates the fisher matrix, \n",
    "\n",
    "\n",
    "together, step by step\n",
    "\n",
    "as a reminder here is the equation for the fisher matrix one more time\n",
    "\n",
    "$$\n",
    "I_{\\theta_\\mathcal{A}^*} = \\frac{1}{N}  \\sum_{i=1}^{N} \\nabla_\\theta log \\ p(x_{\\mathcal{A}, i}|\\theta_\\mathcal{A}^*) \\nabla_\\theta log \\ p(x_{\\mathcal{A}, i}|\\theta_\\mathcal{A}^*)^T\n",
    "$$\n",
    "\n",
    "To my understanding, the equation is saying, sum N of these matrices on top of each other such that the resultant matrix is the same shape of the individual matrices. The gradient term $\\nabla_\\theta log \\ p(x_{\\mathcal{A}, i}|\\theta_\\mathcal{A}^*)$ is a vector and the expression $ \\nabla_\\theta log \\ p(x_{\\mathcal{A}, i}|\\theta_\\mathcal{A}^*) \\nabla_\\theta log \\ p(x_{\\mathcal{A}, i}|\\theta_\\mathcal{A}^*)^T$ represents the [outer product](https://en.wikipedia.org/wiki/Outer_product) of these two vectors to produce a matrix where the elements of that matrix we are interested in is the diagonal $F_{ii}$. ie we are interested in $I_{ii}$, not $I_{ij}$. \n",
    "\n",
    "note: does this mean that in addition to penalizing moving $\\theta_i$ when $F_{ii}$ is high,  we could also penalize moving both $\\theta_i$ and $\\theta_j$ together when $F_{ij}$ is high?\n",
    "\n",
    "### The Fisher Information Matrix is w.r.t the log probability of the NN prediction p(y|x,theta), rather than w.r.t the log likelihood of the data p(x|theta)\n",
    "\n",
    "notice that the term grad log p(D|theta)\n",
    "\n",
    "$$\\nabla_\\theta log \\ p(x_{\\mathcal{A}, i}|\\theta_\\mathcal{A}^*)$$\n",
    "\n",
    "looks alot like the formula for the gradient of the loss function with respect to the parameters.\n",
    "\n",
    "Thats because for the purposes of EWC, it is!\n",
    "\n",
    "from the [Overcoming catastrophic forgetting in neural networks paper](https://www.pnas.org/content/114/13/3521):\n",
    "\n",
    "\"\"\"\n",
    "Note that the log probability of the data given the parameters logp(D|θ) is simply the negative of the loss function for the problem at hand −L(θ). \n",
    "\"\"\"\n",
    "\n",
    "The key mental leap we need to make is that in our machine learning model, p(D|θ) is the probability of the target label given the parameters rather than the p(X|θ) we are used to seeing that represents the likelihood of observing X given θ. \n",
    "\n",
    "Had the neural netword ended in a softmax layer the term $p(x_{\\mathcal{A}, i}|\\theta_\\mathcal{A}^*)$ would be the softmax output, but in the code this is combined with the log using the F.log_softmax function. \n",
    "\n",
    "$ log \\ p(x_{\\mathcal{A}, i}|\\theta_\\mathcal{A}^*)$ is the log likelihood. In the code below this is:\n",
    "\n",
    "```\n",
    "F.log_softmax(output, dim=1)\n",
    "```\n",
    "\n",
    "from [the pytorch docs](https://pytorch.org/docs/stable/generated/torch.nn.NLLLoss.html#torch.nn.NLLLoss)\n",
    "\n",
    "\"\"\"\n",
    "Obtaining log-probabilities in a neural network is easily achieved by adding a LogSoftmax layer in the last layer of your network. You may use CrossEntropyLoss instead, if you prefer not to add an extra layer.\n",
    "\"\"\"\n",
    "\n",
    "Meaning that the full line of code:\n",
    "\n",
    "```\n",
    "F.nll_loss(F.log_softmax(output, dim=1), label)\n",
    "```\n",
    "\n",
    "is essentially the cross entropy loss"
   ]
  },
  {
   "cell_type": "code",
   "execution_count": 8,
   "metadata": {},
   "outputs": [
    {
     "name": "stdout",
     "output_type": "stream",
     "text": [
      "name of this layer's weights: fc1.weight\n",
      "shape of this matrix W torch.Size([256, 784])\n",
      "norm of the matrix 0.0\n"
     ]
    }
   ],
   "source": [
    "precision_matrices = {}\n",
    "for n, p in deepcopy(ewc.params).items():\n",
    "    \n",
    "    print(\"name of this layer's weights:\", n)\n",
    "    p.data.zero_()\n",
    "    precision_matrices[n] = var2device(p.data)\n",
    "    print(\"shape of this matrix W\", precision_matrices[n].shape)\n",
    "    #print(precision_matrices[n])\n",
    "    print(\"norm of the matrix\",torch.norm(precision_matrices[n]).item())\n",
    "    break"
   ]
  },
  {
   "cell_type": "markdown",
   "metadata": {},
   "source": [
    "#### the code above\n",
    "As a reminder, your input shape x is (batch_size, 784) becasue 28*28 = 784. \n",
    "\n",
    "The matrix W of this first linear, aka affine, aka fully connect layer, is\n",
    "(256, 784) because xW^T = a of shape (batch_size, 256) which is the shape of the first layer's activations\n",
    "\n",
    "#### the code below\n",
    "we pass just one image through our model, and examine the tensors being created\n",
    "as they are applied to just the first layer of parameters ofcourse the\n",
    "real thing accumulates this update through all the samples and all the layers"
   ]
  },
  {
   "cell_type": "code",
   "execution_count": 9,
   "metadata": {},
   "outputs": [
    {
     "name": "stdout",
     "output_type": "stream",
     "text": [
      "input.shape torch.Size([1, 28, 28])\n",
      "[0.0, 0.0, 4.682543, 0.0, 4.328751, 0.0, 7.281813, 0.0, 0.0, 0.0]\n",
      "predicted number tensor([6], device='cuda:0')\n",
      "loss 0.12338782846927643\n"
     ]
    },
    {
     "data": {
      "image/png": "[encoded data removed]",
      "text/plain": [
       "<Figure size 432x288 with 1 Axes>"
      ]
     },
     "metadata": {
      "needs_background": "light"
     },
     "output_type": "display_data"
    }
   ],
   "source": [
    "ewc.model.eval()\n",
    "for input in ewc.dataset:\n",
    "    ewc.model.zero_grad()\n",
    "    # no need for the channel dim, these are greyscale, not color rgb images\n",
    "    # bs,1,h,w -> bs,h,w\n",
    "    input = input.squeeze(1)\n",
    "    input = var2device(input)\n",
    "    output = ewc.model(input).view(1, -1)\n",
    "    label = output.max(1)[1].view(-1)\n",
    "    loss = F.nll_loss(F.log_softmax(output, dim=1), label)\n",
    "    loss.backward()    \n",
    "    break\n",
    "\n",
    "print(\"input.shape\", input.shape)\n",
    "img = Image.fromarray(input[0].detach().cpu().numpy()*255)\n",
    "plt.imshow(img)\n",
    "\n",
    "print(list(output.detach().cpu().numpy()[0]))\n",
    "print(\"predicted number\",label)\n",
    "print(\"loss\",loss.item())"
   ]
  },
  {
   "cell_type": "markdown",
   "metadata": {},
   "source": [
    "### sum the squares of the gradients\n",
    "\n",
    "the cell below is the last one you should run when comparing the [norm](https://pytorch.org/docs/stable/generated/torch.norm.html) of the matrix between when the model is pretrained or not.\n",
    "\n",
    "noticed that when you ran the above steps with a pretrained model, the norm is larger than when run with a randomly initialized model, why is this? "
   ]
  },
  {
   "cell_type": "code",
   "execution_count": 11,
   "metadata": {},
   "outputs": [
    {
     "name": "stdout",
     "output_type": "stream",
     "text": [
      "name of this layer's weights: fc1.weight\n",
      "shape of p.grad.data torch.Size([256, 784])\n",
      "shape of p.grad.data ** 2 torch.Size([256, 784])\n",
      "norm of the matrix 0.0003205974353477359\n"
     ]
    }
   ],
   "source": [
    "for n, p in ewc.params.items():\n",
    "    print(\"name of this layer's weights:\", n)\n",
    "    print(\"shape of p.grad.data\", p.grad.data.shape)\n",
    "    print(\"shape of p.grad.data ** 2\", (p.grad.data ** 2).shape)\n",
    "    precision_matrices[n].data += p.grad.data ** 2 / len(ewc.dataset)\n",
    "    #print(precision_matrices[n])\n",
    "    print(\"norm of the matrix\",torch.norm(precision_matrices[n]).item())\n",
    "    break"
   ]
  },
  {
   "cell_type": "markdown",
   "metadata": {},
   "source": [
    "### The Math in the Code\n",
    "\n",
    "One clarification that I think needs to be made that was brought to my attention on [Reddit](https://www.reddit.com/r/MachineLearning/comments/t2riby/p_i_made_the_kind_of_tutorial_i_wish_someone_had/?utm_source=share&utm_medium=web2x&context=3). The equation for the empirical fisher below suggests we are calculating the full Fisher Matrix:\n",
    "\n",
    "$$\n",
    "I_{\\theta_\\mathcal{A}^*} = \\frac{1}{N}  \\sum_{i=1}^{N} \\nabla_\\theta log \\ p(x_{\\mathcal{A}, i}|\\theta_\\mathcal{A}^*) \\nabla_\\theta log \\ p(x_{\\mathcal{A}, i}|\\theta_\\mathcal{A}^*)^T\n",
    "$$\n",
    "\n",
    "But in the code we are not, this line is where the diagonal terms are calculated\n",
    "\n",
    "```\n",
    "p.grad.data ** 2\n",
    "```\n",
    "\n",
    "the above line of code corresponds only to the diagonal component of the matrix $I_{\\theta_\\mathcal{A}^*}$ above.\n",
    "\n",
    "Notice `p.grad.data ** 2` is the same shape as the W for each layer, thats becasue `** 2` is an element-wise operation where we square every element. which is essentially the gradient of the loss function w.r.t. just one parameter, aka weight, multiplied by itself. If we took all the layer's `p.grad.data ** 2`'s and flattened them out into a very long vector, then that would be the just diagonal of the fisher matrix we see in the above equation. So we have only calculated the F_ii terms of the matrix and none of the F_ij terms. \n",
    "\n",
    "note: the diagonal therefore must all be positive valued\n",
    "\n",
    "The fisher diagonals are summed over all the N examples and divided by N, aka we average them to get the mean, aka the expectation, which is why in the actual EWS class, the code is written\n",
    "\n",
    "```\n",
    "+= p.grad.data ** 2 / len(self.dataset)\n",
    "```\n",
    "\n",
    "and placed in the inner loop of:\n",
    "\n",
    "```\n",
    "for input in self.dataset:\n",
    "```\n",
    "\n",
    "After the code accumulates over all N examples, it completes the rest of the equation:\n",
    "\n",
    "$$\n",
    "\\frac{1}{N}  \\sum_{i=1}^{N} \\nabla_\\theta log \\ p(x_{\\mathcal{A}, i}|\\theta_\\mathcal{A}^*) \\nabla_\\theta log \\ p(x_{\\mathcal{A}, i}|\\theta_\\mathcal{A}^*)^T\n",
    "$$\n",
    "\n",
    "\n",
    "### using the F_i in the overall loss function\n",
    "\n",
    "this line of code in the `penalty()` method of the EWS class\n",
    "\n",
    "```\n",
    "_loss = self._precision_matrices[n] * (p - self._means[n]) ** 2\n",
    "```\n",
    "\n",
    "corresponds to this formula\n",
    "\n",
    "$$ F_{i} \\left(\\theta_{i} - \\theta_{A , i}^{*}\\right)^{2} $$\n",
    "\n",
    "where `self._precision_matrices[n]` = $ F_{i}$ and \n",
    "`(p - self._means[n]) ** 2` = $\\left(\\theta_{i} - \\theta_{A , i}^{*}\\right)^{2} $\n",
    "\n",
    "this is then summed over all parameters `loss += _loss.sum()`\n",
    "and done for each layer, which is why the `penaly()` method places this line of code in the inner loop of `for n, p in model.named_parameters():`\n",
    "\n",
    "later in the code for EWC training, this has to be added to the loss for task B `F.cross_entropy(output, target)` and scaled by \n",
    "\n",
    "$\\lambda$ = importance, for the full line of code:\n",
    "\n",
    "`loss = F.cross_entropy(output, target) + importance * ewc.penalty(model)`\n",
    "\n",
    "which is the equivalent of our EWC loss function\n",
    "\n",
    "$$\n",
    "L \\left(\\right. \\theta \\left.\\right) = L_{B} \\left(\\right. \\theta \\left.\\right) + \\underset{i}{\\sum} \\frac{\\lambda}{2} F_{i} \\left(\\theta_{i} - \\theta_{A , i}^{*}\\right)^{2} $$\n",
    "\n",
    "### Explaination\n",
    "\n",
    "For the full proof read [Fisher Information Matrix by Agustinus Kristiadi](https://agustinus.kristia.de/techblog/2018/03/11/fisher-information/) or [Fisher Information Matrix by Yuan-Hong Liao](https://andrewliao11.github.io/blog/fisher-info-matrix/). \n",
    "\n",
    "The end result of the proof is that \"The Fisher is the negative expectation of the Hessian of the log-likelihood\"\n",
    "\n",
    "The Hessian is a square matrix of second-order partial derivatives of a scalar-valued function, or scalar field. It describes the local curvature of a function of many variables. So the diagonal of the Hessian is the 2nd derivative of the loss (negative log likelihood) with respect to the parameters.  Imagine if you only had 2 parameters, the Fisher Information over a patch of values for $\\theta_i$ adn $\\theta_j$ might look like this:\n",
    "\n",
    "Hypothetical F_ij Surface, ignore the vertical axis label for now\n",
    "<p align=\"center\">\n",
    "<img src=\"https://raw.githubusercontent.com/clam004/chat-transformer/main/saved/images/LossTopology.png\" height=800 width=800 >\n",
    "</p>\n",
    "\n",
    "The warmer areas (more red) are the areas of higher curvature, the areas of higher curvature are the areas of local minima and maxima. If you turn the above figure upside down, this would look just like the topological manifold, aka surface, of the loss function, And what is gradient descent trying to do? it is trying to find a local minima on this loss surface, aka a local maxima on the fisher information surface. \n",
    "\n",
    "In intuitive terms, both the Hessian and Fisher Matrix describe how sharp, ie curved, each point in $\\theta$ space is, with respect to the loss.\n",
    "\n",
    "But wait a minute, cant we have a valley with a very flat and wide floor? yes we can, and it very well might be that some of our parameters have settled into such a region while training on task A. However, if that is the case, then while $\\theta$ is in the center of such a region, it can move in various directions and still contribute to good performance on task A, which means we should not penalize changes in this region until $\\theta$ reaches the edge of such a region, in which case, the Fisher information should start to increase. \n",
    "\n",
    "Basically the Fisher Matrix is the negative of this matrix below, where you replace f with log[p(x|theta)] and replace x with theta\n",
    "<p align=\"center\">\n",
    "<img src=\"https://wikimedia.org/api/rest_v1/media/math/render/svg/d2b255c49df2a6e084b9196ab71a68872a739ead\" height=400 width=400 >\n",
    "</p>\n",
    "\n",
    "*The $F_i$ is higher for those $\\theta_i$ that are already optimized into a narrow region and thus if changed, would cause an increase in the loss for task A, thereby reducing the performance on task A described by that loss. More of these \"important and just right\" parameters will exist for trained models and thus the norm on the fisher diagonals will be higher. For models not yet trained on task A, there are fewer parameters that have been optimized to help solve task A, therefore fewer parameters that when changed will have a significant effect on the loss for task A*"
   ]
  },
  {
   "cell_type": "code",
   "execution_count": 12,
   "metadata": {},
   "outputs": [
    {
     "data": {
      "text/plain": [
       "tensor(0., grad_fn=<AddBackward0>)"
      ]
     },
     "execution_count": 12,
     "metadata": {},
     "output_type": "execute_result"
    }
   ],
   "source": [
    "# since the parameters have not changed yet, we expect (𝜃 - 𝜃∗)2 to be zero throughout\n",
    "ewc.penalty(model)"
   ]
  },
  {
   "cell_type": "markdown",
   "metadata": {},
   "source": [
    "### EWC Training\n",
    "\n",
    "Load a model pretrained on MNIST, then train it on Fashion-MNIST while observing the new training's effect on MNIST performance"
   ]
  },
  {
   "cell_type": "code",
   "execution_count": 20,
   "metadata": {},
   "outputs": [
    {
     "name": "stdout",
     "output_type": "stream",
     "text": [
      "accuracy on mnist test set 0.8238000273704529\n"
     ]
    }
   ],
   "source": [
    "# verify that the model you are about to retrain is indeed pretrained\n",
    "acc = test(model,test_loader_mnist)\n",
    "print(\"accuracy on mnist test set\", acc.item())"
   ]
  },
  {
   "cell_type": "code",
   "execution_count": 21,
   "metadata": {},
   "outputs": [],
   "source": [
    "def one_epoch_ewc(\n",
    "    ewc: EWC, \n",
    "    importance: float,\n",
    "    model: nn.Module, \n",
    "    data_loader: torch.utils.data.DataLoader, \n",
    "    lr = 1e-3,\n",
    "):\n",
    "    model.train()\n",
    "    epoch_loss = 0\n",
    "    optimizer = optim.SGD(params=model.parameters(), lr=lr)\n",
    "    for input, target in data_loader:\n",
    "        # no need for the channel dim\n",
    "        # bs,1,h,w -> bs,h,w\n",
    "        input = input.squeeze(1) \n",
    "        input, target = var2device(input), var2device(target)\n",
    "        optimizer.zero_grad()\n",
    "        output = model(input)\n",
    "        loss = F.cross_entropy(output, target) + importance * ewc.penalty(model)\n",
    "        epoch_loss += loss.item()\n",
    "        loss.backward()\n",
    "        optimizer.step()\n",
    "    return epoch_loss / len(data_loader)\n",
    "\n",
    "def ewc_training(\n",
    "    ewc,\n",
    "    importance,\n",
    "    model, \n",
    "    epochs, \n",
    "    train_loader,\n",
    "    test_loader,\n",
    "    test2_loader = None,\n",
    "    use_cuda=True, \n",
    "):\n",
    "    \n",
    "    \"\"\"\n",
    "    This function saves the training curve data consisting\n",
    "    training set loss and validation set accuracy over the\n",
    "    course of the epochs of training.\n",
    "    \n",
    "    I set this up such that if you provide 2 test sets,you\n",
    "    can watch the test accuracy change together during training\n",
    "    on train_loder\n",
    "    \"\"\"\n",
    "    \n",
    "    if torch.cuda.is_available() and use_cuda:\n",
    "        model.cuda()\n",
    "        \n",
    "    train_loss, val_acc, val2_acc = [], [], []\n",
    "    \n",
    "    for epoch in tqdm(range(epochs)):\n",
    "\n",
    "        epoch_loss = one_epoch_ewc(ewc,importance, model,train_loader)\n",
    "        train_loss.append(epoch_loss)\n",
    "        \n",
    "        acc = test(model,test_loader)\n",
    "        val_acc.append(acc.detach().cpu().numpy())\n",
    "        \n",
    "        if test2_loader is not None:\n",
    "            acc2 = test(model,test2_loader)\n",
    "            val2_acc.append(acc2.detach().cpu().numpy())\n",
    "            \n",
    "    return train_loss, val_acc, val2_acc, model "
   ]
  },
  {
   "cell_type": "code",
   "execution_count": 22,
   "metadata": {},
   "outputs": [
    {
     "data": {
      "application/vnd.jupyter.widget-view+json": {
       "model_id": "b8b24f5220c942fba0da4b1f6cc6e46c",
       "version_major": 2,
       "version_minor": 0
      },
      "text/plain": [
       "  0%|          | 0/25 [00:00<?, ?it/s]"
      ]
     },
     "metadata": {},
     "output_type": "display_data"
    }
   ],
   "source": [
    "torch.manual_seed(0)\n",
    "np.random.seed(0)\n",
    "random.seed(0)\n",
    "\n",
    "train_loss, val_acc, val2_acc, model = ewc_training(\n",
    "    ewc = ewc,\n",
    "    importance = 1000,\n",
    "    model = model,\n",
    "    epochs = 25,\n",
    "    train_loader = train_loader_fashion,\n",
    "    test_loader = test_loader_fashion,\n",
    "    test2_loader = test_loader_mnist,\n",
    ")"
   ]
  },
  {
   "cell_type": "code",
   "execution_count": 23,
   "metadata": {},
   "outputs": [
    {
     "data": {
      "image/png": "[encoded data removed]",
      "text/plain": [
       "<Figure size 432x288 with 1 Axes>"
      ]
     },
     "metadata": {
      "needs_background": "light"
     },
     "output_type": "display_data"
    }
   ],
   "source": [
    "plt.figure()\n",
    "plt.xlabel('epochs', fontsize=25)\n",
    "plt.ylabel('validation accuracy', fontsize=25)\n",
    "plt.plot(val_acc, label='fashion')\n",
    "plt.plot(val2_acc, label='mnist')\n",
    "plt.legend()\n",
    "plt.show()"
   ]
  },
  {
   "cell_type": "code",
   "execution_count": 24,
   "metadata": {},
   "outputs": [],
   "source": [
    "# save the trained model\n",
    "model = model.cpu()\n",
    "torch.save(model, \"files/ewcmodel.pth\")"
   ]
  },
  {
   "cell_type": "markdown",
   "metadata": {},
   "source": [
    "### Conclusion\n",
    "\n",
    "We expect a result like this, where instead of the mnist accuracy dropping to below 30%, it degrades by a far lesser amount, it is still above 70%, from around 80% at the end of mnist training. meanwhile, learning of the fashion-mnist dataset still proceed forward, rising above 40% from a baseline below 10%. The performances here are modest, but that is not the point, im sure with architectures specialized for images like convolutional layers or vision transformers you can get the final accuracy much higher, the point here is that we were able to preserve previously learned capabilities of our NN\n",
    "\n",
    "<p align=\"center\">\n",
    "<img src=\"https://raw.githubusercontent.com/clam004/intro_continual_learning/main/files/ewc_training.png\" height=400 width=400 >\n",
    "</p>"
   ]
  },
  {
   "cell_type": "code",
   "execution_count": null,
   "metadata": {},
   "outputs": [],
   "source": []
  }
 ],
 "metadata": {
  "kernelspec": {
   "display_name": "Python 3 (ipykernel)",
   "language": "python",
   "name": "python3"
  },
  "language_info": {
   "codemirror_mode": {
    "name": "ipython",
    "version": 3
   },
   "file_extension": ".py",
   "mimetype": "text/x-python",
   "name": "python",
   "nbconvert_exporter": "python",
   "pygments_lexer": "ipython3",
   "version": "3.8.2"
  }
 },
 "nbformat": 4,
 "nbformat_minor": 2
}
